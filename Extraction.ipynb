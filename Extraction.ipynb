{
 "cells": [
  {
   "cell_type": "markdown",
   "metadata": {},
   "source": [
    "Import libraries"
   ]
  },
  {
   "cell_type": "code",
   "execution_count": null,
   "metadata": {},
   "outputs": [],
   "source": [
    "import pandas as pd\n",
    "from snowflake.connector import connect\n",
    "from datetime import datetime\n",
    "from snowflake.connector.pandas_tools import write_pandas\n",
    "pd.options.display.max_columns = None"
   ]
  },
  {
   "cell_type": "markdown",
   "metadata": {},
   "source": [
    "## Connection"
   ]
  },
  {
   "cell_type": "markdown",
   "metadata": {},
   "source": [
    "Connection to Snowflake"
   ]
  },
  {
   "cell_type": "code",
   "execution_count": null,
   "metadata": {},
   "outputs": [],
   "source": [
    "def connect_to_sf(user, role, warehouse,schema):\n",
    "    try:\n",
    "        cnn = connect(\n",
    "        user=user,\n",
    "        authenticator='externalbrowser',\n",
    "        role=role,\n",
    "        warehouse=warehouse,\n",
    "        database='CX_DB',\n",
    "        schema=schema,\n",
    "        account='cisco.us-east-1'\n",
    "        )\n",
    "        cs = cnn.cursor()\n",
    "        return cs, cnn\n",
    "    except Exception as err:\n",
    "        print(err)\n",
    "        print('Error connecting to Snowflake: ', \"Check your credentials and VPN connection\\n\")\n",
    "    raise\n",
    "roles = {'bus': ['CX_CA_BUS_ANALYST_ROLE', 'CX_CA_RPT_WH','CX_CA_BR']}"
   ]
  },
  {
   "cell_type": "markdown",
   "metadata": {},
   "source": [
    "Authentication"
   ]
  },
  {
   "cell_type": "code",
   "execution_count": null,
   "metadata": {},
   "outputs": [],
   "source": [
    "user='user@ciscox.com'\n",
    "csbus, cnnbus = connect_to_sf(user, *roles['bus'])"
   ]
  },
  {
   "cell_type": "markdown",
   "metadata": {},
   "source": [
    "## QUERY"
   ]
  },
  {
   "cell_type": "code",
   "execution_count": null,
   "metadata": {},
   "outputs": [],
   "source": [
    "## Select a sample of 20% of the distintic party IDs\n",
    "sql = f'''\n",
    "    with crpart as (SELECT DISTINCT BRANCH_PARTY_SSOT_PARTY_ID_INT\n",
    "        FROM CX_DB.CX_CA_EBV.BV_SERVICE_REQUEST_DENORM\n",
    "    WHERE UNIFORM(0.0,1.0,random())<0.2)\n",
    "\n",
    "    SELECT *\n",
    "        FROM CX_DB.CX_CA_EBV.BV_SERVICE_REQUEST_DENORM\n",
    "        WHERE   \n",
    "        BRANCH_PARTY_SSOT_PARTY_ID_INT IN\n",
    "        (select* from crpart) AND datediff(month, INCDT_CREATION_DATE,current_date()) <=24\n",
    "''' \n"
   ]
  },
  {
   "cell_type": "code",
   "execution_count": null,
   "metadata": {},
   "outputs": [],
   "source": [
    "## Query Execution\n",
    "csbus.execute(sql)"
   ]
  },
  {
   "cell_type": "code",
   "execution_count": null,
   "metadata": {},
   "outputs": [],
   "source": [
    "## Pull the Query information with the user\n",
    "TAC_DATA = csbus.fetch_pandas_all() "
   ]
  },
  {
   "cell_type": "code",
   "execution_count": null,
   "metadata": {},
   "outputs": [],
   "source": [
    "## Download data using Parquet\n",
    "TAC_DATA.to_parquet('TAC_db.parquet')"
   ]
  },
  {
   "cell_type": "code",
   "execution_count": null,
   "metadata": {},
   "outputs": [],
   "source": [
    "## Read data\n",
    "TAC_DATA = pd.read_parquet('TAC_db.parquet')"
   ]
  }
 ],
 "metadata": {
  "language_info": {
   "name": "python"
  },
  "orig_nbformat": 4
 },
 "nbformat": 4,
 "nbformat_minor": 2
}
