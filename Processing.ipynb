{
 "cells": [
  {
   "cell_type": "markdown",
   "metadata": {},
   "source": [
    "## Processing and cleanning data "
   ]
  },
  {
   "cell_type": "markdown",
   "metadata": {},
   "source": [
    "Import libraries"
   ]
  },
  {
   "cell_type": "code",
   "execution_count": null,
   "metadata": {},
   "outputs": [],
   "source": [
    "import pandas as pd\n",
    "import numpy as np"
   ]
  },
  {
   "cell_type": "markdown",
   "metadata": {},
   "source": [
    "Read database"
   ]
  },
  {
   "cell_type": "code",
   "execution_count": null,
   "metadata": {},
   "outputs": [],
   "source": [
    "TAC_DATA = pd.read_parquet('TAC_db.parquet')"
   ]
  },
  {
   "cell_type": "markdown",
   "metadata": {},
   "source": [
    "## Mappings"
   ]
  },
  {
   "cell_type": "markdown",
   "metadata": {},
   "source": [
    "Mapping with a .csv file using a merge for Contract Type"
   ]
  },
  {
   "cell_type": "code",
   "execution_count": null,
   "metadata": {},
   "outputs": [],
   "source": [
    "## Check the column\n",
    "TAC_DATA.CONTRACT_TYPE "
   ]
  },
  {
   "cell_type": "code",
   "execution_count": null,
   "metadata": {},
   "outputs": [],
   "source": [
    "## Read the file\n",
    "maping = pd.read_csv('maping files.csv') "
   ]
  },
  {
   "cell_type": "code",
   "execution_count": null,
   "metadata": {},
   "outputs": [],
   "source": [
    "## Show the duplicates\n",
    "maping[maping['CONTRACT_TYPE'].duplicated(keep=False)]"
   ]
  },
  {
   "cell_type": "code",
   "execution_count": null,
   "metadata": {},
   "outputs": [],
   "source": [
    "### Merge\n",
    "TAC_DATA = TAC_DATA.merge(maping,left_on='CONTRACT_TYPE',right_on='CONTRACT_TYPE',how='left')\n",
    "TAC_DATA['SERVICE_PROGRAM'].fillna('Other',inplace= True)"
   ]
  },
  {
   "cell_type": "code",
   "execution_count": null,
   "metadata": {},
   "outputs": [],
   "source": [
    "## Fill in service program the NAs with another category called \"other\"\n",
    "TAC_DATA['SERVICE_PROGRAM'].fillna('Other',inplace= True)"
   ]
  },
  {
   "cell_type": "code",
   "execution_count": null,
   "metadata": {},
   "outputs": [],
   "source": [
    "TAC_DATA"
   ]
  },
  {
   "cell_type": "markdown",
   "metadata": {},
   "source": [
    "Mapping another column"
   ]
  },
  {
   "cell_type": "code",
   "execution_count": null,
   "metadata": {},
   "outputs": [],
   "source": [
    "## Read file\n",
    "res_code = pd.read_excel('Mapping resolution code.xlsx')"
   ]
  },
  {
   "cell_type": "code",
   "execution_count": null,
   "metadata": {},
   "outputs": [],
   "source": [
    "TAC_DATA['RESOLUTION_CODE_F'] = 'NOT MAPPED'\n",
    "TAC_DATA.loc[TAC_DATA['RESOLUTION_CODE'].isin(set(res_code['OTHERS'].unique()).difference({np.nan})),'RESOLUTION_CODE_F'] = 'OTHERS'\n",
    "TAC_DATA.loc[TAC_DATA['RESOLUTION_CODE'].isin(set(res_code['SW-APP-LIC'].unique()).difference({np.nan})),'RESOLUTION_CODE_F'] = 'SW-APP-LIC'\n",
    "TAC_DATA.loc[TAC_DATA['RESOLUTION_CODE'].isin(set(res_code['EDUCATION'].unique()).difference({np.nan})),'RESOLUTION_CODE_F'] = 'EDUCATION'\n",
    "TAC_DATA.loc[TAC_DATA['RESOLUTION_CODE'].isin(set(res_code['HW-RMA'].unique()).difference({np.nan})),'RESOLUTION_CODE_F'] = 'HW-RMA'\n",
    "TAC_DATA.loc[TAC_DATA['RESOLUTION_CODE'].isin(set(res_code['3RD PARTY'].unique()).difference({np.nan})),'RESOLUTION_CODE_F'] = '3RD PARTY'"
   ]
  },
  {
   "cell_type": "markdown",
   "metadata": {},
   "source": [
    "Change the type of some columns"
   ]
  },
  {
   "cell_type": "code",
   "execution_count": null,
   "metadata": {},
   "outputs": [],
   "source": [
    "TAC_DATA['CURRENT_SEVERITY_INT'] = TAC_DATA['CURRENT_SEVERITY_INT'].astype(int)\n",
    "TAC_DATA['INITIAL_SEVERITY_INT'] = TAC_DATA['INITIAL_SEVERITY_INT'].astype(int)\n",
    "TAC_DATA['MIN_SEVERITY_INT'] = TAC_DATA['MIN_SEVERITY_INT'].astype(int)\n",
    "TAC_DATA['MAX_SEVERITY_INT'] = TAC_DATA['MAX_SEVERITY_INT'].astype(int)"
   ]
  },
  {
   "cell_type": "markdown",
   "metadata": {},
   "source": [
    "Delete two accounts because they aren't useful and have outliers"
   ]
  },
  {
   "cell_type": "code",
   "execution_count": null,
   "metadata": {},
   "outputs": [],
   "source": [
    "TAC_DATA = TAC_DATA[~TAC_DATA['BRANCH_PARTY_SSOT_PARTY_ID_INT'].isin([-999,52428])]"
   ]
  },
  {
   "cell_type": "code",
   "execution_count": null,
   "metadata": {},
   "outputs": [],
   "source": [
    "TAC_DATA"
   ]
  }
 ],
 "metadata": {
  "language_info": {
   "name": "python"
  },
  "orig_nbformat": 4
 },
 "nbformat": 4,
 "nbformat_minor": 2
}
