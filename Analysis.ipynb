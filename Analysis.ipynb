{
 "cells": [
  {
   "cell_type": "markdown",
   "metadata": {},
   "source": [
    "## Statistical analysis"
   ]
  },
  {
   "cell_type": "markdown",
   "metadata": {},
   "source": [
    "Import libraries"
   ]
  },
  {
   "cell_type": "code",
   "execution_count": null,
   "metadata": {},
   "outputs": [],
   "source": [
    "import pandas as pd\n",
    "import numpy as np"
   ]
  },
  {
   "cell_type": "markdown",
   "metadata": {},
   "source": [
    "Read database"
   ]
  },
  {
   "cell_type": "code",
   "execution_count": null,
   "metadata": {},
   "outputs": [],
   "source": [
    "TAC_DATA = pd.read_parquet('TAC_db.parquet')"
   ]
  },
  {
   "cell_type": "markdown",
   "metadata": {},
   "source": [
    "Escalated"
   ]
  },
  {
   "cell_type": "code",
   "execution_count": null,
   "metadata": {},
   "outputs": [],
   "source": [
    "### Observe the categories\n",
    "TAC_DATA['INCIDENT_URGENCY_NAME'].unique()"
   ]
  },
  {
   "cell_type": "code",
   "execution_count": null,
   "metadata": {},
   "outputs": [],
   "source": [
    "### Fill NA with NONE\n",
    "TAC_DATA['INCIDENT_URGENCY_NAME'] = TAC_DATA['INCIDENT_URGENCY_NAME'].fillna('NONE')"
   ]
  },
  {
   "cell_type": "code",
   "execution_count": null,
   "metadata": {},
   "outputs": [],
   "source": [
    "### Group by three categories and count the number of TAC cases\n",
    "DATA_URGENCY_SERVICE_C = TAC_DATA.groupby(['BRANCH_PARTY_SSOT_PARTY_ID_INT','INCIDENT_URGENCY_NAME','SERVICE_PROGRAM']).agg({'INCIDENT_NUMBER':'count'}).reset_index()"
   ]
  },
  {
   "cell_type": "code",
   "execution_count": null,
   "metadata": {},
   "outputs": [],
   "source": [
    "DATA_URGENCY_SERVICE_C"
   ]
  },
  {
   "cell_type": "code",
   "execution_count": null,
   "metadata": {},
   "outputs": [],
   "source": [
    "## agg sum \n",
    "PIVOT_TABLE_URGENCY = DATA_URGENCY_SERVICE_C.pivot_table(index='BRANCH_PARTY_SSOT_PARTY_ID_INT',columns='INCIDENT_URGENCY_NAME',values='INCIDENT_NUMBER',aggfunc='sum').fillna(0)"
   ]
  },
  {
   "cell_type": "code",
   "execution_count": null,
   "metadata": {},
   "outputs": [],
   "source": [
    "## New variable with the addition of the categories\n",
    "PIVOT_TABLE_URGENCY['TOTAL'] = PIVOT_TABLE_URGENCY['B2B Dormant']+PIVOT_TABLE_URGENCY['B2B Escalated']+PIVOT_TABLE_URGENCY['B2B Transferred To Partner']+PIVOT_TABLE_URGENCY['Escalated']+PIVOT_TABLE_URGENCY['NONE']"
   ]
  },
  {
   "cell_type": "code",
   "execution_count": null,
   "metadata": {},
   "outputs": [],
   "source": [
    "## Calculate the percentage of the total\n",
    "PIVOT_TABLE_URGENCY['PERESCALATED'] = PIVOT_TABLE_URGENCY['Escalated']+PIVOT_TABLE_URGENCY['B2B Escalated']/PIVOT_TABLE_URGENCY['TOTAL']"
   ]
  },
  {
   "cell_type": "code",
   "execution_count": null,
   "metadata": {},
   "outputs": [],
   "source": [
    "## Statistics\n",
    "PIVOT_TABLE_URGENCY.describe()"
   ]
  },
  {
   "cell_type": "code",
   "execution_count": null,
   "metadata": {},
   "outputs": [],
   "source": [
    "## Check quantity \n",
    "(PIVOT_TABLE_URGENCY['PERESCALATED']>0).value_counts()"
   ]
  },
  {
   "cell_type": "code",
   "execution_count": null,
   "metadata": {},
   "outputs": [],
   "source": [
    "## Relate with other column\n",
    "TAC_DATA[TAC_DATA['INCIDENT_URGENCY_NAME'].isin(['B2B Escalated','Escalated'])]['MAX_SEVERITY_INT'].value_counts()"
   ]
  },
  {
   "cell_type": "markdown",
   "metadata": {},
   "source": [
    "Outage"
   ]
  },
  {
   "cell_type": "markdown",
   "metadata": {},
   "source": [
    "TAC_DATA['OUTAGE_FLAG'].value_counts()"
   ]
  },
  {
   "cell_type": "code",
   "execution_count": null,
   "metadata": {},
   "outputs": [],
   "source": [
    "## Organize categories\n",
    "TAC_DATA.loc[TAC_DATA['OUTAGE_FLAG']=='true','OUTAGE_FLAG']='Yes'\n",
    "TAC_DATA.loc[TAC_DATA['OUTAGE_FLAG']=='false','OUTAGE_FLAG']='No'\n",
    "TAC_DATA.loc[TAC_DATA['OUTAGE_FLAG']=='XYZ','OUTAGE_FLAG']='No'"
   ]
  },
  {
   "cell_type": "code",
   "execution_count": null,
   "metadata": {},
   "outputs": [],
   "source": [
    "## Fill NAs with No\n",
    "TAC_DATA['OUTAGE_FLAG'] = TAC_DATA['OUTAGE_FLAG'].fillna('No')"
   ]
  },
  {
   "cell_type": "code",
   "execution_count": null,
   "metadata": {},
   "outputs": [],
   "source": [
    "## Group by party ID\n",
    "DATA_OUTAGE_C = TAC_DATA.groupby(['BRANCH_PARTY_SSOT_PARTY_ID_INT','OUTAGE_FLAG','SERVICE_PROGRAM']).agg({'INCIDENT_NUMBER':'count'}).reset_index()"
   ]
  },
  {
   "cell_type": "code",
   "execution_count": null,
   "metadata": {},
   "outputs": [],
   "source": [
    "DATA_OUTAGE_C"
   ]
  },
  {
   "cell_type": "code",
   "execution_count": null,
   "metadata": {},
   "outputs": [],
   "source": [
    "## Create a pivot table\n",
    "PIVOT_TABLE_OUTAGE = DATA_OUTAGE_C.pivot_table(index='BRANCH_PARTY_SSOT_PARTY_ID_INT',columns='OUTAGE_FLAG',values='INCIDENT_NUMBER',aggfunc='sum').fillna(0)"
   ]
  },
  {
   "cell_type": "code",
   "execution_count": null,
   "metadata": {},
   "outputs": [],
   "source": [
    "PIVOT_TABLE_OUTAGE"
   ]
  },
  {
   "cell_type": "code",
   "execution_count": null,
   "metadata": {},
   "outputs": [],
   "source": [
    "## Add another column\n",
    "PIVOT_TABLE_OUTAGE['PERYES'] = PIVOT_TABLE_OUTAGE['Yes'] / (PIVOT_TABLE_OUTAGE['No']+PIVOT_TABLE_OUTAGE['Yes'])"
   ]
  },
  {
   "cell_type": "code",
   "execution_count": null,
   "metadata": {},
   "outputs": [],
   "source": [
    "## Statistics\n",
    "PIVOT_TABLE_OUTAGE.describe()"
   ]
  },
  {
   "cell_type": "code",
   "execution_count": null,
   "metadata": {},
   "outputs": [],
   "source": [
    "## Check the condition\n",
    "(PIVOT_TABLE_OUTAGE['PERYES']>0).value_counts()"
   ]
  },
  {
   "cell_type": "code",
   "execution_count": null,
   "metadata": {},
   "outputs": [],
   "source": [
    "## Relate with other column\n",
    "TAC_DATA[TAC_DATA['OUTAGE_FLAG'].isin(['Yes'])]['MAX_SEVERITY_INT'].value_counts()"
   ]
  },
  {
   "cell_type": "markdown",
   "metadata": {},
   "source": [
    "Complexity"
   ]
  },
  {
   "cell_type": "code",
   "execution_count": null,
   "metadata": {},
   "outputs": [],
   "source": [
    "TAC_DATA['COMPLEXITY_DESCR'].value_counts()"
   ]
  },
  {
   "cell_type": "code",
   "execution_count": null,
   "metadata": {},
   "outputs": [],
   "source": [
    "## Create Pivot Table\n",
    "COMPLEXITY_PIVOT = TAC_DATA.pivot_table(index='BRANCH_PARTY_SSOT_PARTY_ID_INT',columns='COMPLEXITY_DESCR',values='INCIDENT_NUMBER',aggfunc='count').fillna(0)"
   ]
  },
  {
   "cell_type": "code",
   "execution_count": null,
   "metadata": {},
   "outputs": [],
   "source": [
    "## Add calculated columns\n",
    "COMPLEXITY_PIVOT['Total'] = COMPLEXITY_PIVOT['0 Level -Procedural']+COMPLEXITY_PIVOT['1 Level -Basic']+COMPLEXITY_PIVOT['2 Level -Advanced']+COMPLEXITY_PIVOT['3 Level -Exceptionally Complex']\n",
    "COMPLEXITY_PIVOT['PERCOMPLEX'] = COMPLEXITY_PIVOT['3 Level -Exceptionally Complex']/(COMPLEXITY_PIVOT['Total']) "
   ]
  },
  {
   "cell_type": "code",
   "execution_count": null,
   "metadata": {},
   "outputs": [],
   "source": [
    "## Statistics\n",
    "COMPLEXITY_PIVOT.describe()"
   ]
  },
  {
   "cell_type": "markdown",
   "metadata": {},
   "source": [
    "Entry Channel Name"
   ]
  },
  {
   "cell_type": "code",
   "execution_count": null,
   "metadata": {},
   "outputs": [],
   "source": [
    "TAC_DATA['ENTRY_CHANNEL_NAME'].value_counts()"
   ]
  },
  {
   "cell_type": "code",
   "execution_count": null,
   "metadata": {},
   "outputs": [],
   "source": [
    "b = TAC_DATA.groupby(['ENTRY_CHANNEL_NAME','INITIAL_SEVERITY_INT']).agg({'INCIDENT_NUMBER':'count'}).reset_index().pivot_table(index='ENTRY_CHANNEL_NAME',columns='INITIAL_SEVERITY_INT',values='INCIDENT_NUMBER').reindex().fillna(0)\n",
    "b['TOTAL'] = b[1]+b[2]+b[3]+b[4]\n",
    "b[1] = (b[1]/b['TOTAL'])*100\n",
    "b[2] = (b[2]/b['TOTAL'])*100\n",
    "b[3] = (b[3]/b['TOTAL'])*100\n",
    "b[4] = (b[4]/b['TOTAL'])*100\n",
    "b"
   ]
  },
  {
   "cell_type": "code",
   "execution_count": null,
   "metadata": {},
   "outputs": [],
   "source": [
    "## Download\n",
    "b.to_csv('Entry_Chanel_Severity.csv')"
   ]
  },
  {
   "cell_type": "markdown",
   "metadata": {},
   "source": [
    "Min Max Severity"
   ]
  },
  {
   "cell_type": "code",
   "execution_count": null,
   "metadata": {},
   "outputs": [],
   "source": [
    "## Create a calculated column to determine a change in severity\n",
    "TAC_DATA['SEVERITY_INCREASED'] = 0\n",
    "TAC_DATA.loc[(TAC_DATA['MIN_SEVERITY_INT']>TAC_DATA['MAX_SEVERITY_INT']),'SEVERITY_INCREASED'] = 1"
   ]
  },
  {
   "cell_type": "code",
   "execution_count": null,
   "metadata": {},
   "outputs": [],
   "source": [
    "# By case\n",
    "print((TAC_DATA['MIN_SEVERITY_INT']>TAC_DATA['MAX_SEVERITY_INT']).value_counts())"
   ]
  },
  {
   "cell_type": "code",
   "execution_count": null,
   "metadata": {},
   "outputs": [],
   "source": [
    "# By account\n",
    "print(TAC_DATA.groupby('BRANCH_PARTY_SSOT_PARTY_ID_INT').agg({'SEVERITY_INCREASED':'max'}).value_counts())"
   ]
  },
  {
   "cell_type": "code",
   "execution_count": null,
   "metadata": {},
   "outputs": [],
   "source": [
    "## Create a pivot table\n",
    "a = TAC_DATA.groupby(['SEVERITY_INCREASED','MAX_SEVERITY_INT']).agg({'INCIDENT_NUMBER':'count'}).reset_index().pivot_table(index='SEVERITY_INCREASED',columns='MAX_SEVERITY_INT',values='INCIDENT_NUMBER').reindex().fillna(0)\n",
    "a['TOTAL'] = a[1]+a[2]+a[3]+a[4]\n",
    "a[1] = (a[1]/a['TOTAL'])*100\n",
    "a[2] = (a[2]/a['TOTAL'])*100\n",
    "a[3] = (a[3]/a['TOTAL'])*100\n",
    "a[4] = (a[4]/a['TOTAL'])*100\n",
    "a"
   ]
  },
  {
   "cell_type": "code",
   "execution_count": null,
   "metadata": {},
   "outputs": [],
   "source": [
    "## Download\n",
    "a.to_csv('Severity_Increased.csv')"
   ]
  },
  {
   "cell_type": "markdown",
   "metadata": {},
   "source": [
    "Problem code and Resolution code"
   ]
  },
  {
   "cell_type": "code",
   "execution_count": null,
   "metadata": {},
   "outputs": [],
   "source": [
    "TAC_DATA.groupby(['PROBLEM_CODE','RESOLUTION_CODE_F']).agg({'INCIDENT_NUMBER':'count'}).reset_index().pivot_table(index='PROBLEM_CODE',columns='RESOLUTION_CODE_F',values='INCIDENT_NUMBER').reset_index().fillna(0)"
   ]
  },
  {
   "cell_type": "code",
   "execution_count": null,
   "metadata": {},
   "outputs": [],
   "source": [
    "TAC_DATA[~TAC_DATA['TROUBLESHOOTING_DESCRIPTION'].isna()]['RESOLUTION_CODE_F'].value_counts()"
   ]
  },
  {
   "cell_type": "code",
   "execution_count": null,
   "metadata": {},
   "outputs": [],
   "source": [
    "TAC_DATA[TAC_DATA['TROUBLESHOOTING_DESCRIPTION'].isna()]['RESOLUTION_CODE_F'].value_counts()"
   ]
  },
  {
   "cell_type": "markdown",
   "metadata": {},
   "source": [
    "Resolution code and Request Type"
   ]
  },
  {
   "cell_type": "code",
   "execution_count": null,
   "metadata": {},
   "outputs": [],
   "source": [
    "c = TAC_DATA.groupby(['REQUEST_TYPE_NAME','RESOLUTION_CODE_F']).agg({'INCIDENT_NUMBER':'count'}).reset_index().pivot_table(index='REQUEST_TYPE_NAME',columns='RESOLUTION_CODE_F',values='INCIDENT_NUMBER').reset_index().fillna(0)\n",
    "c['TOTAL'] = c['3RD PARTY']+c['EDUCATION']+c['HW-RMA']+c['OTHERS']+c['SW-APP-LIC']\n",
    "c['3RD PARTY'] = (c['3RD PARTY']/c'TOTAL'])*100\n",
    "c['EDUCATION']= (c['EDUCATION']/c['TOTAL'])*100\n",
    "c['HW-RMA'] = (c['HW-RMA']/c['TOTAL'])*100\n",
    "c['OTHERS'] = (c['OTHERS']/c['TOTAL'])*100\n",
    "c['SW-APP-LIC']= (c['SW-APP-LIC']/c['TOTAL'])*100\n",
    "c"
   ]
  },
  {
   "cell_type": "code",
   "execution_count": null,
   "metadata": {},
   "outputs": [],
   "source": [
    "## Download\n",
    "c.to_csv('Request_type_Resolution_code.csv')"
   ]
  },
  {
   "cell_type": "markdown",
   "metadata": {},
   "source": [
    "Reopen date"
   ]
  },
  {
   "cell_type": "code",
   "execution_count": null,
   "metadata": {},
   "outputs": [],
   "source": [
    "## Create a new column\n",
    "TAC_DATA['REOPEN'] = 0\n",
    "TAC_DATA.loc[~TAC_DATA['LAST_REOPEN_DATE'].isna(),'REOPEN'] = 1"
   ]
  },
  {
   "cell_type": "code",
   "execution_count": null,
   "metadata": {},
   "outputs": [],
   "source": [
    "a = TAC_DATA.groupby(['REOPEN','MAX_SEVERITY_INT']).agg({'INCIDENT_NUMBER':'count'}).pivot_table(index = 'REOPEN',columns='MAX_SEVERITY_INT',values='INCIDENT_NUMBER')\n",
    "a['TOTAL'] = a[1]+a[2]+a[3]+a[4]\n",
    "a[1] = (a[1]/a['TOTAL'])*100\n",
    "a[2] = (a[2]/a['TOTAL'])*100\n",
    "a[3] = (a[3]/a['TOTAL'])*100\n",
    "a[4] = (a[4]/a['TOTAL'])*100\n",
    "a"
   ]
  },
  {
   "cell_type": "code",
   "execution_count": null,
   "metadata": {},
   "outputs": [],
   "source": [
    "a.to_csv('Reopen_Severity.csv')"
   ]
  },
  {
   "cell_type": "markdown",
   "metadata": {},
   "source": [
    "Graphics"
   ]
  },
  {
   "cell_type": "code",
   "execution_count": null,
   "metadata": {},
   "outputs": [],
   "source": [
    "import matplotlib\n",
    "import plotly.graph_objects as go"
   ]
  },
  {
   "cell_type": "markdown",
   "metadata": {},
   "source": [
    "Reopen Cases and Not Reopen cases"
   ]
  },
  {
   "cell_type": "code",
   "execution_count": null,
   "metadata": {},
   "outputs": [],
   "source": [
    "fig = go.Figure()\n",
    "fig.add_trace(go.Histogram(x = TAC_DATA['MAX_SEVERITY_INT'][TAC_DATA['REOPEN']==0], histnorm='percent', name='No', marker_color=\"#00bceb\" ) )\n",
    "fig.add_trace(go.Histogram(x = TAC_DATA['MAX_SEVERITY_INT'][TAC_DATA['REOPEN']==1], histnorm='percent', name='Yes', marker_color=\"#0d274d\") )\n",
    "fig.update_xaxes(categoryorder='array', categoryarray= ['1', '2', '3', '4'])\n",
    "fig.update_layout(\n",
    "    title={'text': \"Reopen Cases\", 'xanchor':'center', 'x':0.5},\n",
    "    xaxis_title=\"Max Severity\",\n",
    "    yaxis_title=\"Percent (%)\",\n",
    "    legend_title=\"Reopen\",\n",
    "    paper_bgcolor = 'rgba(255,255,255,1)',\n",
    "    plot_bgcolor = 'rgba(255,255,255,1)',\n",
    ")\n",
    "fig.update_yaxes(gridcolor = 'rgba(200,200,200,1)')\n",
    "fig.show()\n",
    "# px.histogram(df,x = 'MAX_SEVERITY_INT',color = 'REOPEN',category_orders={'MAX_SEVERITY_INT':['1','2','3','4']},histnorm = 'percent',barmode = 'group',labels={0:'no', 1:'yes'})"
   ]
  },
  {
   "cell_type": "code",
   "execution_count": null,
   "metadata": {},
   "outputs": [],
   "source": [
    "TAC_DATA[TAC_DATA['REOPEN']==0]['MAX_SEVERITY_INT'].value_counts().to_dict()"
   ]
  },
  {
   "cell_type": "code",
   "execution_count": null,
   "metadata": {},
   "outputs": [],
   "source": [
    "list(a.keys())"
   ]
  },
  {
   "cell_type": "markdown",
   "metadata": {},
   "source": [
    "Not Reopen Cases (Pie)"
   ]
  },
  {
   "cell_type": "code",
   "execution_count": null,
   "metadata": {},
   "outputs": [],
   "source": [
    "a = TAC_DATA[TAC_DATA['REOPEN']==0]['MAX_SEVERITY_INT'].value_counts().to_dict()\n",
    "fig = go.Figure()\n",
    "fig.add_trace(go.Pie(labels=['1','2','3','4'],values=list(map(a.get,['1','2','3','4'])),sort =False, marker_colors = ['#0d274d', '#1e4471', '#00bceb', '#ced4da']) ) \n",
    "fig.update_layout(\n",
    "    title={'text': \"Not Reopen Cases\", 'xanchor':'center', 'x':0.5},\n",
    "    xaxis_title=\"Max Severity\",\n",
    "    yaxis_title=\"Percent (%)\",\n",
    "    legend_title=\"Severity\",\n",
    "    paper_bgcolor = 'rgba(255,255,255,1)',\n",
    "    plot_bgcolor = 'rgba(255,255,255,1)',\n",
    ")\n",
    "fig.show()"
   ]
  },
  {
   "cell_type": "markdown",
   "metadata": {},
   "source": [
    "Reopen cases"
   ]
  },
  {
   "cell_type": "code",
   "execution_count": null,
   "metadata": {},
   "outputs": [],
   "source": [
    "a = TAC_DATA[TAC_DATA['REOPEN']==1]['MAX_SEVERITY_INT'].value_counts().to_dict()\n",
    "fig = go.Figure()\n",
    "fig.add_trace(go.Pie(labels=['1','2','3','4'],values=list(map(a.get,['1','2','3','4'])),sort =False, marker_colors = ['#0d274d', '#1e4471', '#00bceb', '#ced4da']) ) \n",
    "fig.update_layout(\n",
    "    title={'text': \"Reopen Cases\", 'xanchor':'center', 'x':0.5},\n",
    "    xaxis_title=\"Max Severity\",\n",
    "    yaxis_title=\"Percent (%)\",\n",
    "    legend_title=\"Severity\",\n",
    "    paper_bgcolor = 'rgba(255,255,255,1)',\n",
    "    plot_bgcolor = 'rgba(255,255,255,1)',\n",
    ")\n",
    "fig.show()"
   ]
  },
  {
   "cell_type": "markdown",
   "metadata": {},
   "source": [
    "Customer Activity Severity"
   ]
  },
  {
   "cell_type": "code",
   "execution_count": null,
   "metadata": {},
   "outputs": [],
   "source": [
    "d = TAC_DATA.groupby(['CUSTOMER_ACTIVITY_CODE','MAX_SEVERITY_INT']).agg({'INCIDENT_NUMBER':'count'}).reset_index().pivot_table(index='CUSTOMER_ACTIVITY_CODE',columns='MAX_SEVERITY_INT',values='INCIDENT_NUMBER').reset_index()\n",
    "d['TOTAL'] = d[1]+d[2]+d[3]+d[4]\n",
    "d[1] = (d[1]/d['TOTAL'])*100\n",
    "d[2] = (d[2]/d['TOTAL'])*100\n",
    "d[3] = (d[3]/d['TOTAL'])*100\n",
    "d[4] = (d[4]/d['TOTAL'])*100\n",
    "d"
   ]
  },
  {
   "cell_type": "code",
   "execution_count": null,
   "metadata": {},
   "outputs": [],
   "source": [
    "d.to_csv('Customer_activity_Severity.csv')"
   ]
  },
  {
   "cell_type": "markdown",
   "metadata": {},
   "source": [
    "Complexity Severity"
   ]
  },
  {
   "cell_type": "code",
   "execution_count": null,
   "metadata": {},
   "outputs": [],
   "source": [
    "e = TAC_DATA.groupby(['COMPLEXITY_DESCR','MAX_SEVERITY_INT']).agg({'INCIDENT_NUMBER':'count'}).reset_index().pivot_table(index='COMPLEXITY_DESCR',columns='MAX_SEVERITY_INT',values='INCIDENT_NUMBER').reset_index()\n",
    "e['TOTAL'] = e[1]+e[2]+e[3]+e[4]\n",
    "e[1] = (e[1]/e['TOTAL'])*100\n",
    "e[2] = (e[2]/e['TOTAL'])*100\n",
    "e[3] = (e[3]/e['TOTAL'])*100\n",
    "e[4] = (e[4]/e['TOTAL'])*100\n",
    "e"
   ]
  },
  {
   "cell_type": "code",
   "execution_count": null,
   "metadata": {},
   "outputs": [],
   "source": [
    "e.to_csv('Complexity_Severity.csv')"
   ]
  },
  {
   "cell_type": "markdown",
   "metadata": {},
   "source": [
    "WordClouds"
   ]
  },
  {
   "cell_type": "code",
   "execution_count": null,
   "metadata": {},
   "outputs": [],
   "source": [
    "import plotly.express as px\n",
    "from wordcloud import WordCloud,STOPWORDS\n",
    "import matplotlib.pyplot as plt"
   ]
  },
  {
   "cell_type": "markdown",
   "metadata": {},
   "source": [
    "Sumary TXT"
   ]
  },
  {
   "cell_type": "code",
   "execution_count": null,
   "metadata": {},
   "outputs": [],
   "source": [
    "txt = str(TAC_DATA['SR_SUMMARY_TXT'])\n",
    "txt"
   ]
  },
  {
   "cell_type": "code",
   "execution_count": null,
   "metadata": {},
   "outputs": [],
   "source": [
    "print(STOPWORDS)"
   ]
  },
  {
   "cell_type": "code",
   "execution_count": null,
   "metadata": {},
   "outputs": [],
   "source": [
    "wc = WordCloud( background_color=\"white\",stopwords=['been', 'off', 'few', 'same', 'against', 'we', 'of',\n",
    "                                                     'only', 'by', 'he', 'all', 'r', 'not', \"that's\", 'they',\n",
    "                                                      'itself', 'those', 'get', 'more', 'were', 'each', 'do', 'most', 'a', 'but',\n",
    "                                                     'however', \"you'll\", \"there's\", 'him', 'herself', 'had', \"can't\", 'i', \"let's\", 'again',\n",
    "                                                      'this', 'through', 'why', 'k', 'his', 'it', 'into', \"what's\", \"didn't\", \"shan't\", \"i've\", 'up',\n",
    "                                                       'www', 'from', \"hasn't\", \"couldn't\", 'no', 'the', 'as', 'therefore', 'hence', 'until', \"when's\",\n",
    "                                                        'shall', 'at', 'or', 'our', 'like', 'further', 'about', 'too', 'with', 'during', \"she'd\", 'some', \n",
    "                                                        \"they've\", 'has', 'over', 'an', \"doesn't\", 'here', 'you', \"i'll\", 'for', 'my', 'so', 'than', 'in',\n",
    "                                                         'ours', \"we'll\", \"he'll\", 'nor', 'who', \"i'd\", 'when', \"haven't\", \"who's\", \"hadn't\", 'to', 'com', 'ever',\n",
    "                                                          \"she's\", \"how's\", 'if', 'ought', 'their', \"you're\", 'down', \"mustn't\", 'myself', 'any', 'then', 'between',\n",
    "                                                           'would', 'should', 'having', \"he'd\", 'on', \"they'll\", 'out', 'doing', \"here's\", \"they're\", 'yours', \"i'm\",\n",
    "                                                            'these', 'have', 'themselves', 'such', 'http', 'while', 'hers', 'can', 'also', 'does', 'else', 'being',\n",
    "                                                         \"it's\", 'yourself', \"we'd\", 'be', 'could', \"they'd\", 'under', \"we've\", \"you've\", 'there', 'was', \"wasn't\", \n",
    "                                                         'below', 'are', 'himself', 'above', 'me', 'which', 'that', 'them', 'what', \"wouldn't\", \"isn't\",\n",
    "                                                           'theirs', \"why's\", 'and', \"we're\", \"don't\", 'is', 'after', 'its', 'other', \"weren't\", 'because',\n",
    "                                                            'whom', 'otherwise', 'once', 'ourselves', \"won't\", 'own', 'cannot', 'just', \"she'll\", 'both', \n",
    "                                                            'yourselves', 'very', \"you'd\", 'your',\"he's\", 'her', 'before', \"where's\", 'how', 'she', 'did', 'am', \"shouldn't\", 'since', \"aren't\", 'where',\n",
    "                                                            'respo','lentgth','due','name','w','personal','show','dpd','dtype','Po','Payr','Invites','SR_SUMMARY_TXT'],max_words=300,width=2000,height=1000\n",
    ").generate(txt)\n",
    "plt.axis('Off')\n",
    "plt.imshow(wc)"
   ]
  },
  {
   "cell_type": "markdown",
   "metadata": {},
   "source": [
    "Troubleshooting Description"
   ]
  },
  {
   "cell_type": "code",
   "execution_count": null,
   "metadata": {},
   "outputs": [],
   "source": [
    "T= TAC_DATA['TROUBLESHOOTING_DESCRIPTION'].unique().tolist()\n",
    "T"
   ]
  },
  {
   "cell_type": "code",
   "execution_count": null,
   "metadata": {},
   "outputs": [],
   "source": [
    "T = str(T)\n",
    "wc = WordCloud( background_color=\"white\", stopwords=['been', 'off', 'few', 'same', 'against', 'we', 'of',\n",
    "                                                     'only', 'by', 'he', 'all', 'r', 'not', \"that's\", 'they',\n",
    "                                                      'itself', 'those', 'get', 'more', 'were', 'each', 'do', 'most', 'a', 'but',\n",
    "                                                     'however', \"you'll\", \"there's\", 'him', 'herself', 'had', \"can't\", 'i', \"let's\", 'again',\n",
    "                                                      'this', 'through', 'why', 'k', 'his', 'it', 'into', \"what's\", \"didn't\", \"shan't\", \"i've\", 'up',\n",
    "                                                       'www', 'from', \"hasn't\", \"couldn't\", 'no', 'the', 'as', 'therefore', 'hence', 'until', \"when's\",\n",
    "                                                        'shall', 'at', 'or', 'our', 'like', 'further', 'about', 'too', 'with', 'during', \"she'd\", 'some', \n",
    "                                                        \"they've\", 'has', 'over', 'an', \"doesn't\", 'here', 'you', \"i'll\", 'for', 'my', 'so', 'than', 'in',\n",
    "                                                         'ours', \"we'll\", \"he'll\", 'nor', 'who', \"i'd\", 'when', \"haven't\", \"who's\", \"hadn't\", 'to', 'com', 'ever',\n",
    "                                                          \"she's\", \"how's\", 'if', 'ought', 'their', \"you're\", 'down', \"mustn't\", 'myself', 'any', 'then', 'between',\n",
    "                                                           'would', 'should', 'having', \"he'd\", 'on', \"they'll\", 'out', 'doing', \"here's\", \"they're\", 'yours', \"i'm\",\n",
    "                                                            'these', 'have', 'themselves', 'such', 'http', 'while', 'hers', 'can', 'also', 'does', 'else', 'being',\n",
    "                                                         \"it's\", 'yourself', \"we'd\", 'be', 'could', \"they'd\", 'under', \"we've\", \"you've\", 'there', 'was', \"wasn't\", \n",
    "                                                         'below', 'are', 'himself', 'above', 'me', 'which', 'that', 'them', 'what', \"wouldn't\", \"isn't\",\n",
    "                                                           'theirs', \"why's\", 'and', \"we're\", \"don't\", 'is', 'after', 'its', 'other', \"weren't\", 'because',\n",
    "                                                            'whom', 'otherwise', 'once', 'ourselves', \"won't\", 'own', 'cannot', 'just', \"she'll\", 'both', \n",
    "                                                            'yourselves', 'very', \"you'd\", 'your',\"he's\", 'her', 'before', \"where's\", 'how', 'she', 'did', 'am', \"shouldn't\", 'since', \"aren't\", 'where',\n",
    "                                                            'respo','lentgth','due','name','w','personal','show','dpd','dtype','Po','Payr','Invites','None','TROUBLESHOOTING_DESCRIPTION','Length','Object','xa0','n','na','ma','dBm','error count']\n",
    "                                                            ,max_words=100,width=2000,height=1000).generate(T)\n",
    "plt.axis('Off')\n",
    "\n",
    "plt.imshow(wc)"
   ]
  }
 ],
 "metadata": {
  "language_info": {
   "name": "python"
  },
  "orig_nbformat": 4
 },
 "nbformat": 4,
 "nbformat_minor": 2
}
